{
 "cells": [
  {
   "cell_type": "markdown",
   "id": "bfacab82",
   "metadata": {},
   "source": [
    "# Question1"
   ]
  },
  {
   "cell_type": "markdown",
   "id": "862cb56a",
   "metadata": {},
   "source": [
    "### Step 1. Import the necessary libraries"
   ]
  },
  {
   "cell_type": "code",
   "execution_count": 99,
   "id": "5897354b",
   "metadata": {},
   "outputs": [],
   "source": [
    "import pandas as pd\n",
    "import numpy as np"
   ]
  },
  {
   "cell_type": "markdown",
   "id": "0287e33d",
   "metadata": {},
   "source": [
    "### Step 2. Import the dataset from this address. "
   ]
  },
  {
   "cell_type": "code",
   "execution_count": 100,
   "id": "305f6c33",
   "metadata": {},
   "outputs": [],
   "source": [
    "url = 'https://raw.githubusercontent.com/justmarkham/DAT8/master/data/u.user'"
   ]
  },
  {
   "cell_type": "markdown",
   "id": "ce03fffa",
   "metadata": {},
   "source": [
    "### Step 3. Assign it to a variable called users"
   ]
  },
  {
   "cell_type": "code",
   "execution_count": 101,
   "id": "dc76a425",
   "metadata": {},
   "outputs": [],
   "source": [
    "users = pd.read_csv(url, sep='|')"
   ]
  },
  {
   "cell_type": "markdown",
   "id": "c1e0114a",
   "metadata": {},
   "source": [
    "### Step 4. Discover what is the mean age per occupation"
   ]
  },
  {
   "cell_type": "code",
   "execution_count": 154,
   "id": "ae5155e9",
   "metadata": {},
   "outputs": [
    {
     "name": "stdout",
     "output_type": "stream",
     "text": [
      "occupation\n",
      "administrator    38.746835\n",
      "artist           31.392857\n",
      "doctor           43.571429\n",
      "educator         42.010526\n",
      "engineer         36.388060\n",
      "entertainment    29.222222\n",
      "executive        38.718750\n",
      "healthcare       41.562500\n",
      "homemaker        32.571429\n",
      "lawyer           36.750000\n",
      "librarian        40.000000\n",
      "marketing        37.615385\n",
      "none             26.555556\n",
      "other            34.523810\n",
      "programmer       33.121212\n",
      "retired          63.071429\n",
      "salesman         35.666667\n",
      "scientist        35.548387\n",
      "student          22.081633\n",
      "technician       33.148148\n",
      "writer           36.311111\n",
      "Name: age, dtype: float64\n"
     ]
    }
   ],
   "source": [
    "age = users.groupby('occupation')['age'].mean()\n",
    "print(age)"
   ]
  },
  {
   "cell_type": "markdown",
   "id": "aa97ae80",
   "metadata": {},
   "source": [
    "### Step 5. Discover the Male ratio per occupation and sort it from the most to the least "
   ]
  },
  {
   "cell_type": "code",
   "execution_count": 136,
   "id": "e131e61e",
   "metadata": {},
   "outputs": [
    {
     "name": "stdout",
     "output_type": "stream",
     "text": [
      "occupation\n",
      "doctor           1.000000\n",
      "engineer         0.970149\n",
      "technician       0.962963\n",
      "retired          0.928571\n",
      "programmer       0.909091\n",
      "executive        0.906250\n",
      "scientist        0.903226\n",
      "entertainment    0.888889\n",
      "lawyer           0.833333\n",
      "salesman         0.750000\n",
      "educator         0.726316\n",
      "student          0.693878\n",
      "other            0.657143\n",
      "marketing        0.615385\n",
      "writer           0.577778\n",
      "none             0.555556\n",
      "administrator    0.544304\n",
      "artist           0.535714\n",
      "librarian        0.431373\n",
      "healthcare       0.312500\n",
      "homemaker        0.142857\n",
      "Name: gender, dtype: float64\n"
     ]
    }
   ],
   "source": [
    "def ratio(x):\n",
    "    male = sum(x == 'M')\n",
    "    female = sum(x == 'F')\n",
    "    return male/(male+female)\n",
    "\n",
    "male_ratio = users.groupby('occupation')['gender'].apply(ratio)\n",
    "male_ratio.sort_values(ascending=False, inplace=True)\n",
    "print(male_ratio)"
   ]
  },
  {
   "cell_type": "markdown",
   "id": "bb8dc442",
   "metadata": {},
   "source": [
    "### Step 6. For each occupation, calculate the minimum and maximum ages"
   ]
  },
  {
   "cell_type": "code",
   "execution_count": 137,
   "id": "95b6d6dd",
   "metadata": {},
   "outputs": [
    {
     "name": "stdout",
     "output_type": "stream",
     "text": [
      "               min  max\n",
      "occupation             \n",
      "administrator   21   70\n",
      "artist          19   48\n",
      "doctor          28   64\n",
      "educator        23   63\n",
      "engineer        22   70\n",
      "entertainment   15   50\n",
      "executive       22   69\n",
      "healthcare      22   62\n",
      "homemaker       20   50\n",
      "lawyer          21   53\n",
      "librarian       23   69\n",
      "marketing       24   55\n",
      "none            11   55\n",
      "other           13   64\n",
      "programmer      20   63\n",
      "retired         51   73\n",
      "salesman        18   66\n",
      "scientist       23   55\n",
      "student          7   42\n",
      "technician      21   55\n",
      "writer          18   60\n"
     ]
    }
   ],
   "source": [
    "minmax = users.groupby('occupation')['age'].agg(['min', 'max'])\n",
    "print(minmax)"
   ]
  },
  {
   "cell_type": "markdown",
   "id": "5792fc56",
   "metadata": {},
   "source": [
    "### Step 7. For each combination of occupation and sex, calculate the mean age"
   ]
  },
  {
   "cell_type": "code",
   "execution_count": 139,
   "id": "bd8302d4",
   "metadata": {},
   "outputs": [
    {
     "name": "stdout",
     "output_type": "stream",
     "text": [
      "gender                 F          M\n",
      "occupation                         \n",
      "administrator  40.638889  37.162791\n",
      "artist         30.307692  32.333333\n",
      "doctor               NaN  43.571429\n",
      "educator       39.115385  43.101449\n",
      "engineer       29.500000  36.600000\n",
      "entertainment  31.000000  29.000000\n",
      "executive      44.000000  38.172414\n",
      "healthcare     39.818182  45.400000\n",
      "homemaker      34.166667  23.000000\n",
      "lawyer         39.500000  36.200000\n",
      "librarian      40.000000  40.000000\n",
      "marketing      37.200000  37.875000\n",
      "none           36.500000  18.600000\n",
      "other          35.472222  34.028986\n",
      "programmer     32.166667  33.216667\n",
      "retired        70.000000  62.538462\n",
      "salesman       27.000000  38.555556\n",
      "scientist      28.333333  36.321429\n",
      "student        20.750000  22.669118\n",
      "technician     38.000000  32.961538\n",
      "writer         37.631579  35.346154\n"
     ]
    }
   ],
   "source": [
    "mean_age = users.groupby(['occupation', 'gender'])['age'].mean()\n",
    "mean_age_data = mean_age.reset_index().pivot(index='occupation', columns='gender', values='age')\n",
    "print(mean_age_data)"
   ]
  },
  {
   "cell_type": "markdown",
   "id": "ce219aa3",
   "metadata": {},
   "source": [
    "### Step 8. For each occupation present the percentage of women and men"
   ]
  },
  {
   "cell_type": "code",
   "execution_count": 149,
   "id": "d203c47c",
   "metadata": {},
   "outputs": [
    {
     "name": "stdout",
     "output_type": "stream",
     "text": [
      "occupation             \n",
      "administrator  Male %       54.430380\n",
      "               Female %     45.569620\n",
      "artist         Male %       53.571429\n",
      "               Female %     46.428571\n",
      "doctor         Male %      100.000000\n",
      "               Female %      0.000000\n",
      "educator       Male %       72.631579\n",
      "               Female %     27.368421\n",
      "engineer       Male %       97.014925\n",
      "               Female %      2.985075\n",
      "entertainment  Male %       88.888889\n",
      "               Female %     11.111111\n",
      "executive      Male %       90.625000\n",
      "               Female %      9.375000\n",
      "healthcare     Male %       31.250000\n",
      "               Female %     68.750000\n",
      "homemaker      Male %       14.285714\n",
      "               Female %     85.714286\n",
      "lawyer         Male %       83.333333\n",
      "               Female %     16.666667\n",
      "librarian      Male %       43.137255\n",
      "               Female %     56.862745\n",
      "marketing      Male %       61.538462\n",
      "               Female %     38.461538\n",
      "none           Male %       55.555556\n",
      "               Female %     44.444444\n",
      "other          Male %       65.714286\n",
      "               Female %     34.285714\n",
      "programmer     Male %       90.909091\n",
      "               Female %      9.090909\n",
      "retired        Male %       92.857143\n",
      "               Female %      7.142857\n",
      "salesman       Male %       75.000000\n",
      "               Female %     25.000000\n",
      "scientist      Male %       90.322581\n",
      "               Female %      9.677419\n",
      "student        Male %       69.387755\n",
      "               Female %     30.612245\n",
      "technician     Male %       96.296296\n",
      "               Female %      3.703704\n",
      "writer         Male %       57.777778\n",
      "               Female %     42.222222\n",
      "Name: gender, dtype: float64\n"
     ]
    }
   ],
   "source": [
    "def percentages(x):\n",
    "    male = sum(x == 'M')\n",
    "    female = sum(x == 'F')\n",
    "    total = male + female\n",
    "    percent_male = male/total * 100\n",
    "    percent_female = female/total * 100\n",
    "    return pd.Series({'Male %': percent_male, 'Female %': percent_female})\n",
    "\n",
    "gender_percentages = users.groupby('occupation')['gender'].apply(percentages)\n",
    "print(gender_percentages)"
   ]
  },
  {
   "cell_type": "markdown",
   "id": "ac62ff1b",
   "metadata": {},
   "source": [
    "# Question 2"
   ]
  },
  {
   "cell_type": "markdown",
   "id": "ed7caa81",
   "metadata": {},
   "source": [
    "### Euro Teams\n",
    "### Step 1. Import the necessary libraries\n"
   ]
  },
  {
   "cell_type": "code",
   "execution_count": 156,
   "id": "825512ec",
   "metadata": {},
   "outputs": [],
   "source": [
    "import pandas as pd\n",
    "import numpy as np"
   ]
  },
  {
   "cell_type": "markdown",
   "id": "ea140017",
   "metadata": {},
   "source": [
    "### Step 2. Import the dataset from this address"
   ]
  },
  {
   "cell_type": "code",
   "execution_count": 157,
   "id": "9e9d29b6",
   "metadata": {},
   "outputs": [],
   "source": [
    "url = 'https://raw.githubusercontent.com/guipsamora/pandas_exercises/master/02_Filtering_%26_Sorting/Euro12/Euro_2012_stats_TEAM.csv'"
   ]
  },
  {
   "cell_type": "markdown",
   "id": "78ded3bc",
   "metadata": {},
   "source": [
    "### Step 3. Assign it to a variable called euro12"
   ]
  },
  {
   "cell_type": "code",
   "execution_count": 158,
   "id": "a3c555cb",
   "metadata": {},
   "outputs": [],
   "source": [
    "euro12 = pd.read_csv(url)"
   ]
  },
  {
   "cell_type": "markdown",
   "id": "1362753f",
   "metadata": {},
   "source": [
    "### Step 4. Select only the Goal column"
   ]
  },
  {
   "cell_type": "code",
   "execution_count": 167,
   "id": "2f5277c8",
   "metadata": {},
   "outputs": [
    {
     "name": "stdout",
     "output_type": "stream",
     "text": [
      "Goals: [ 4  4  4  5  3 10  5  6  2  2  6  1  5 12  5  2]\n"
     ]
    }
   ],
   "source": [
    "goals = euro12['Goals'].values\n",
    "print('Goals:' , goals)"
   ]
  },
  {
   "cell_type": "markdown",
   "id": "394bd15b",
   "metadata": {},
   "source": [
    "### Step 5. How many team participated in the Euro2012?"
   ]
  },
  {
   "cell_type": "code",
   "execution_count": 161,
   "id": "4599c4de",
   "metadata": {},
   "outputs": [
    {
     "name": "stdout",
     "output_type": "stream",
     "text": [
      "Number of team participated: 16\n"
     ]
    }
   ],
   "source": [
    "team_total = euro12['Team'].count()\n",
    "print('Number of team participated:',team_total)"
   ]
  },
  {
   "cell_type": "markdown",
   "id": "7ea13be6",
   "metadata": {},
   "source": [
    "### Step 6. What is the number of columns in the dataset?"
   ]
  },
  {
   "cell_type": "code",
   "execution_count": 162,
   "id": "07681ca2",
   "metadata": {},
   "outputs": [
    {
     "name": "stdout",
     "output_type": "stream",
     "text": [
      "Number of columns in dataset are  35\n"
     ]
    }
   ],
   "source": [
    "columns = euro12.shape[1]\n",
    "print('Number of columns in dataset are ',columns)"
   ]
  },
  {
   "cell_type": "markdown",
   "id": "0472e7ac",
   "metadata": {},
   "source": [
    "### Step 7. View only the columns Team, Yellow Cards and Red Cards and assign them to a dataframe called discipline"
   ]
  },
  {
   "cell_type": "code",
   "execution_count": 163,
   "id": "9501add8",
   "metadata": {},
   "outputs": [
    {
     "name": "stdout",
     "output_type": "stream",
     "text": [
      "                     Yellow Cards  Red Cards\n",
      "Team                                        \n",
      "Croatia                         9          0\n",
      "Czech Republic                  7          0\n",
      "Denmark                         4          0\n",
      "England                         5          0\n",
      "France                          6          0\n",
      "Germany                         4          0\n",
      "Greece                          9          1\n",
      "Italy                          16          0\n",
      "Netherlands                     5          0\n",
      "Poland                          7          1\n",
      "Portugal                       12          0\n",
      "Republic of Ireland             6          1\n",
      "Russia                          6          0\n",
      "Spain                          11          0\n",
      "Sweden                          7          0\n",
      "Ukraine                         5          0\n"
     ]
    }
   ],
   "source": [
    "discipline = euro12[['Team', 'Yellow Cards', 'Red Cards']].set_index('Team', drop=True)\n",
    "print(discipline)"
   ]
  },
  {
   "cell_type": "markdown",
   "id": "bfc2018f",
   "metadata": {},
   "source": [
    "### Step 8. Sort the teams by Red Cards, then to Yellow Cards"
   ]
  },
  {
   "cell_type": "code",
   "execution_count": 170,
   "id": "019654c9",
   "metadata": {},
   "outputs": [
    {
     "name": "stdout",
     "output_type": "stream",
     "text": [
      "                     Yellow Cards  Red Cards\n",
      "Team                                        \n",
      "Greece                          9          1\n",
      "Poland                          7          1\n",
      "Republic of Ireland             6          1\n",
      "Italy                          16          0\n",
      "Portugal                       12          0\n",
      "Spain                          11          0\n",
      "Croatia                         9          0\n",
      "Czech Republic                  7          0\n",
      "Sweden                          7          0\n",
      "France                          6          0\n",
      "Russia                          6          0\n",
      "England                         5          0\n",
      "Netherlands                     5          0\n",
      "Ukraine                         5          0\n",
      "Denmark                         4          0\n",
      "Germany                         4          0\n"
     ]
    }
   ],
   "source": [
    "discipline_sorted = discipline.sort_values(['Red Cards', 'Yellow Cards'], ascending=False)\n",
    "print(discipline_sorted)"
   ]
  },
  {
   "cell_type": "markdown",
   "id": "2a418d65",
   "metadata": {},
   "source": [
    "### Step 9. Calculate the mean Yellow Cards given per Team"
   ]
  },
  {
   "cell_type": "code",
   "execution_count": 173,
   "id": "8a55ed27",
   "metadata": {},
   "outputs": [
    {
     "name": "stdout",
     "output_type": "stream",
     "text": [
      "Mean Yellow card given per team : 7.4375\n"
     ]
    }
   ],
   "source": [
    "mean_yellowcards = euro12['Yellow Cards'].mean()\n",
    "print('Mean Yellow card given per team :',mean_yellowcards)"
   ]
  },
  {
   "cell_type": "markdown",
   "id": "f26cc0c3",
   "metadata": {},
   "source": [
    "### Step 10. Filter teams that scored more than 6 goals"
   ]
  },
  {
   "cell_type": "code",
   "execution_count": 178,
   "id": "b77bcee0",
   "metadata": {},
   "outputs": [
    {
     "name": "stdout",
     "output_type": "stream",
     "text": [
      "Teams that scored more than 6 goals: ['Germany' 'Spain']\n"
     ]
    }
   ],
   "source": [
    "filtered_teams = euro12[euro12['Goals'] > 6]['Team'].values\n",
    "print('Teams that scored more than 6 goals:',filtered_teams)"
   ]
  },
  {
   "cell_type": "markdown",
   "id": "933cec1d",
   "metadata": {},
   "source": [
    "### Step 11. Select the teams that start with G"
   ]
  },
  {
   "cell_type": "code",
   "execution_count": 181,
   "id": "09933629",
   "metadata": {},
   "outputs": [
    {
     "name": "stdout",
     "output_type": "stream",
     "text": [
      "teams that start with G: ['Germany' 'Greece']\n"
     ]
    }
   ],
   "source": [
    "teams_with_g = euro12[euro12['Team'].str.startswith('G')]['Team'].values\n",
    "print('teams that start with G:',teams_with_g)"
   ]
  },
  {
   "cell_type": "markdown",
   "id": "d7cd2579",
   "metadata": {},
   "source": [
    "### Step 12. Select the first 7 columns"
   ]
  },
  {
   "cell_type": "code",
   "execution_count": 190,
   "id": "377cc587",
   "metadata": {},
   "outputs": [
    {
     "name": "stdout",
     "output_type": "stream",
     "text": [
      "                   Team  Goals  Shots on target  Shots off target  \\\n",
      "0               Croatia      4               13                12   \n",
      "1        Czech Republic      4               13                18   \n",
      "2               Denmark      4               10                10   \n",
      "3               England      5               11                18   \n",
      "4                France      3               22                24   \n",
      "5               Germany     10               32                32   \n",
      "6                Greece      5                8                18   \n",
      "7                 Italy      6               34                45   \n",
      "8           Netherlands      2               12                36   \n",
      "9                Poland      2               15                23   \n",
      "10             Portugal      6               22                42   \n",
      "11  Republic of Ireland      1                7                12   \n",
      "12               Russia      5                9                31   \n",
      "13                Spain     12               42                33   \n",
      "14               Sweden      5               17                19   \n",
      "15              Ukraine      2                7                26   \n",
      "\n",
      "   Shooting Accuracy % Goals-to-shots  Total shots (inc. Blocked)  \n",
      "0              51.9%            16.0%                          32  \n",
      "1              41.9%            12.9%                          39  \n",
      "2              50.0%            20.0%                          27  \n",
      "3              50.0%            17.2%                          40  \n",
      "4              37.9%             6.5%                          65  \n",
      "5              47.8%            15.6%                          80  \n",
      "6              30.7%            19.2%                          32  \n",
      "7              43.0%             7.5%                         110  \n",
      "8              25.0%             4.1%                          60  \n",
      "9              39.4%             5.2%                          48  \n",
      "10             34.3%             9.3%                          82  \n",
      "11             36.8%             5.2%                          28  \n",
      "12             22.5%            12.5%                          59  \n",
      "13             55.9%            16.0%                         100  \n",
      "14             47.2%            13.8%                          39  \n",
      "15             21.2%             6.0%                          38  \n"
     ]
    }
   ],
   "source": [
    "first7 = euro12.iloc[:, :7]\n",
    "print(first7)"
   ]
  },
  {
   "cell_type": "markdown",
   "id": "3cf751ff",
   "metadata": {},
   "source": [
    "### Step 13. Select all columns except the last 3"
   ]
  },
  {
   "cell_type": "code",
   "execution_count": 191,
   "id": "19f2da74",
   "metadata": {},
   "outputs": [
    {
     "name": "stdout",
     "output_type": "stream",
     "text": [
      "                   Team  Goals  Shots on target  Shots off target  \\\n",
      "0               Croatia      4               13                12   \n",
      "1        Czech Republic      4               13                18   \n",
      "2               Denmark      4               10                10   \n",
      "3               England      5               11                18   \n",
      "4                France      3               22                24   \n",
      "5               Germany     10               32                32   \n",
      "6                Greece      5                8                18   \n",
      "7                 Italy      6               34                45   \n",
      "8           Netherlands      2               12                36   \n",
      "9                Poland      2               15                23   \n",
      "10             Portugal      6               22                42   \n",
      "11  Republic of Ireland      1                7                12   \n",
      "12               Russia      5                9                31   \n",
      "13                Spain     12               42                33   \n",
      "14               Sweden      5               17                19   \n",
      "15              Ukraine      2                7                26   \n",
      "\n",
      "   Shooting Accuracy % Goals-to-shots  Total shots (inc. Blocked)  \\\n",
      "0              51.9%            16.0%                          32   \n",
      "1              41.9%            12.9%                          39   \n",
      "2              50.0%            20.0%                          27   \n",
      "3              50.0%            17.2%                          40   \n",
      "4              37.9%             6.5%                          65   \n",
      "5              47.8%            15.6%                          80   \n",
      "6              30.7%            19.2%                          32   \n",
      "7              43.0%             7.5%                         110   \n",
      "8              25.0%             4.1%                          60   \n",
      "9              39.4%             5.2%                          48   \n",
      "10             34.3%             9.3%                          82   \n",
      "11             36.8%             5.2%                          28   \n",
      "12             22.5%            12.5%                          59   \n",
      "13             55.9%            16.0%                         100   \n",
      "14             47.2%            13.8%                          39   \n",
      "15             21.2%             6.0%                          38   \n",
      "\n",
      "    Hit Woodwork  Penalty goals  Penalties not scored  ...  Clean Sheets  \\\n",
      "0              0              0                     0  ...             0   \n",
      "1              0              0                     0  ...             1   \n",
      "2              1              0                     0  ...             1   \n",
      "3              0              0                     0  ...             2   \n",
      "4              1              0                     0  ...             1   \n",
      "5              2              1                     0  ...             1   \n",
      "6              1              1                     1  ...             1   \n",
      "7              2              0                     0  ...             2   \n",
      "8              2              0                     0  ...             0   \n",
      "9              0              0                     0  ...             0   \n",
      "10             6              0                     0  ...             2   \n",
      "11             0              0                     0  ...             0   \n",
      "12             2              0                     0  ...             0   \n",
      "13             0              1                     0  ...             5   \n",
      "14             3              0                     0  ...             1   \n",
      "15             0              0                     0  ...             0   \n",
      "\n",
      "    Blocks  Goals conceded Saves made  Saves-to-shots ratio  Fouls Won  \\\n",
      "0       10               3         13                 81.3%         41   \n",
      "1       10               6          9                 60.1%         53   \n",
      "2       10               5         10                 66.7%         25   \n",
      "3       29               3         22                 88.1%         43   \n",
      "4        7               5          6                 54.6%         36   \n",
      "5       11               6         10                 62.6%         63   \n",
      "6       23               7         13                 65.1%         67   \n",
      "7       18               7         20                 74.1%        101   \n",
      "8        9               5         12                 70.6%         35   \n",
      "9        8               3          6                 66.7%         48   \n",
      "10      11               4         10                 71.5%         73   \n",
      "11      23               9         17                 65.4%         43   \n",
      "12       8               3         10                 77.0%         34   \n",
      "13       8               1         15                 93.8%        102   \n",
      "14      12               5          8                 61.6%         35   \n",
      "15       4               4         13                 76.5%         48   \n",
      "\n",
      "    Fouls Conceded  Offsides  Yellow Cards  Red Cards  \n",
      "0               62         2             9          0  \n",
      "1               73         8             7          0  \n",
      "2               38         8             4          0  \n",
      "3               45         6             5          0  \n",
      "4               51         5             6          0  \n",
      "5               49        12             4          0  \n",
      "6               48        12             9          1  \n",
      "7               89        16            16          0  \n",
      "8               30         3             5          0  \n",
      "9               56         3             7          1  \n",
      "10              90        10            12          0  \n",
      "11              51        11             6          1  \n",
      "12              43         4             6          0  \n",
      "13              83        19            11          0  \n",
      "14              51         7             7          0  \n",
      "15              31         4             5          0  \n",
      "\n",
      "[16 rows x 32 columns]\n"
     ]
    }
   ],
   "source": [
    "last_3_cols_drop = euro12.iloc[:, :-3]\n",
    "print(last_3_cols_drop)"
   ]
  },
  {
   "cell_type": "markdown",
   "id": "c8bcfeb6",
   "metadata": {},
   "source": [
    "### Step 14. Present only the Shooting Accuracy from England, Italy and Russia"
   ]
  },
  {
   "cell_type": "code",
   "execution_count": 200,
   "id": "b453b0b2",
   "metadata": {},
   "outputs": [
    {
     "name": "stdout",
     "output_type": "stream",
     "text": [
      "the Shooting Accuracy:\n",
      "        Shooting Accuracy\n",
      "Team                     \n",
      "England             50.0%\n",
      "Italy               43.0%\n",
      "Russia              22.5%\n"
     ]
    }
   ],
   "source": [
    "shooting_acc = euro12.loc[euro12['Team'].isin(['England', 'Italy', 'Russia']), ['Team', 'Shooting Accuracy']].set_index('Team', drop=True)\n",
    "print('the Shooting Accuracy:')\n",
    "print(shooting_acc)"
   ]
  },
  {
   "cell_type": "markdown",
   "id": "2421f465",
   "metadata": {},
   "source": [
    "# Question 3"
   ]
  },
  {
   "cell_type": "markdown",
   "id": "556941db",
   "metadata": {},
   "source": [
    "### Housing\n",
    "### Step 1. Import the necessary libraries"
   ]
  },
  {
   "cell_type": "code",
   "execution_count": 201,
   "id": "f9e71ef0",
   "metadata": {},
   "outputs": [],
   "source": [
    "import pandas as pd\n",
    "import numpy as np"
   ]
  },
  {
   "cell_type": "markdown",
   "id": "0d983522",
   "metadata": {},
   "source": [
    "### Step 2. Create 3 differents Series, each of length 100, as follows:\n",
    "#### • The first a random number from 1 to 40\n",
    "#### • The second a random number from 1 to 3\n",
    "#### • The third a random number from 10,000 to 30,000"
   ]
  },
  {
   "cell_type": "code",
   "execution_count": 202,
   "id": "a0037c99",
   "metadata": {},
   "outputs": [],
   "source": [
    "s1 = pd.Series(np.random.randint(1, 41, size=100))\n",
    "s2 = pd.Series(np.random.randint(1, 4, size=100))\n",
    "s3 = pd.Series(np.random.randint(10000, 30001, size=100))\n"
   ]
  },
  {
   "cell_type": "markdown",
   "id": "6dc97640",
   "metadata": {},
   "source": [
    "### Step 3. Create a DataFrame by joining the Series by column"
   ]
  },
  {
   "cell_type": "code",
   "execution_count": 208,
   "id": "19279ca6",
   "metadata": {},
   "outputs": [
    {
     "name": "stdout",
     "output_type": "stream",
     "text": [
      "DATAFRAME:\n",
      "     0  1      2\n",
      "0   10  3  15538\n",
      "1   31  2  11065\n",
      "2   34  2  13360\n",
      "3   18  1  21377\n",
      "4   32  3  10276\n",
      "..  .. ..    ...\n",
      "95  10  1  27976\n",
      "96   4  2  12776\n",
      "97  15  1  16379\n",
      "98   1  2  23666\n",
      "99  24  1  21282\n",
      "\n",
      "[100 rows x 3 columns]\n"
     ]
    }
   ],
   "source": [
    "dataframe = pd.concat([s1, s2, s3], axis=1)\n",
    "print('DATAFRAME:')\n",
    "print(dataframe)"
   ]
  },
  {
   "cell_type": "markdown",
   "id": "67593f09",
   "metadata": {},
   "source": [
    "### Step 4. Change the name of the columns to bedrs, bathrs, price_sqr_meter"
   ]
  },
  {
   "cell_type": "code",
   "execution_count": 211,
   "id": "29d986d1",
   "metadata": {},
   "outputs": [
    {
     "name": "stdout",
     "output_type": "stream",
     "text": [
      "    bedrs  bathrs  price_sqr_meter\n",
      "0      10       3            15538\n",
      "1      31       2            11065\n",
      "2      34       2            13360\n",
      "3      18       1            21377\n",
      "4      32       3            10276\n",
      "..    ...     ...              ...\n",
      "95     10       1            27976\n",
      "96      4       2            12776\n",
      "97     15       1            16379\n",
      "98      1       2            23666\n",
      "99     24       1            21282\n",
      "\n",
      "[100 rows x 3 columns]\n"
     ]
    }
   ],
   "source": [
    "dataframe.columns = ['bedrs', 'bathrs', 'price_sqr_meter']\n",
    "print(dataframe)"
   ]
  },
  {
   "cell_type": "markdown",
   "id": "675004df",
   "metadata": {},
   "source": [
    "### Step 5. Create a one column DataFrame with the values of the 3 Series and assign it to 'bigcolumn'"
   ]
  },
  {
   "cell_type": "code",
   "execution_count": 217,
   "id": "d04d9ae2",
   "metadata": {},
   "outputs": [
    {
     "name": "stdout",
     "output_type": "stream",
     "text": [
      "    bigcolumn\n",
      "0          10\n",
      "1          31\n",
      "2          34\n",
      "3          18\n",
      "4          32\n",
      "..        ...\n",
      "95      27976\n",
      "96      12776\n",
      "97      16379\n",
      "98      23666\n",
      "99      21282\n",
      "\n",
      "[300 rows x 1 columns]\n"
     ]
    }
   ],
   "source": [
    "bigcolumn = pd.concat([s1, s2, s3], axis=0)\n",
    "bigcolumn =pd.DataFrame(bigcolumn, columns=['bigcolumn'])\n",
    "print(bigcolumn)"
   ]
  },
  {
   "cell_type": "markdown",
   "id": "4c37cc52",
   "metadata": {},
   "source": [
    "### Step 6. Ops it seems it is going only until index 99. Is it true?"
   ]
  },
  {
   "cell_type": "markdown",
   "id": "ed3243ff",
   "metadata": {},
   "source": [
    "Certainly, this is true. Each of the original Series had a length of 100, therefore the concatenated Series intended to have been 300 in total. The index values from the original Series are kept when the Series is concatenated using axis=0, however. This means that the concatenated series' index values range from 0 to 99, then from 0 to 99 again, and lastly from 0 to 99. The ultimate index value is 99."
   ]
  },
  {
   "cell_type": "markdown",
   "id": "410c966d",
   "metadata": {},
   "source": [
    "### Step 7. Reindex the DataFrame so it goes from 0 to 299"
   ]
  },
  {
   "cell_type": "code",
   "execution_count": 219,
   "id": "51f8f561",
   "metadata": {},
   "outputs": [
    {
     "name": "stdout",
     "output_type": "stream",
     "text": [
      "Reindexed data:\n",
      "       bigcolumn\n",
      "index           \n",
      "0             10\n",
      "1             31\n",
      "2             34\n",
      "3             18\n",
      "4             32\n",
      "...          ...\n",
      "295        27976\n",
      "296        12776\n",
      "297        16379\n",
      "298        23666\n",
      "299        21282\n",
      "\n",
      "[300 rows x 1 columns]\n"
     ]
    }
   ],
   "source": [
    "print('Reindexed data:')\n",
    "bigcolumn = bigcolumn.reset_index(drop=True)\n",
    "bigcolumn.index.name = 'index'\n",
    "print(bigcolumn)"
   ]
  },
  {
   "cell_type": "markdown",
   "id": "9bd93e6c",
   "metadata": {},
   "source": [
    "# Question 4"
   ]
  },
  {
   "cell_type": "markdown",
   "id": "5fe8acbd",
   "metadata": {},
   "source": [
    "### Step 1. Import the necessary libraries"
   ]
  },
  {
   "cell_type": "code",
   "execution_count": 284,
   "id": "a26a5024",
   "metadata": {},
   "outputs": [],
   "source": [
    "import pandas as pd\n",
    "import numpy as np\n",
    "import datetime"
   ]
  },
  {
   "cell_type": "markdown",
   "id": "56d0afc9",
   "metadata": {},
   "source": [
    "### Step 2. Import the dataset from the attached file wind.txt\n",
    "### Step 3. Assign it to a variable called data and replace the first 3 columns by a proper datetime index."
   ]
  },
  {
   "cell_type": "code",
   "execution_count": 285,
   "id": "ca45cc61",
   "metadata": {},
   "outputs": [],
   "source": [
    "data = pd.read_csv('wind.txt', delimiter = \"\\s+\", parse_dates=[[0,1,2]])"
   ]
  },
  {
   "cell_type": "code",
   "execution_count": 286,
   "id": "ed129592",
   "metadata": {},
   "outputs": [],
   "source": [
    "data = data.set_index('Yr_Mo_Dy')"
   ]
  },
  {
   "cell_type": "markdown",
   "id": "869d3252",
   "metadata": {},
   "source": [
    "### Step 4. Year 2061? Do we really have data from this year? Create a function to fix it and apply it."
   ]
  },
  {
   "cell_type": "code",
   "execution_count": 287,
   "id": "a4332b22",
   "metadata": {},
   "outputs": [
    {
     "name": "stderr",
     "output_type": "stream",
     "text": [
      "C:\\Users\\patel\\AppData\\Local\\Temp\\ipykernel_1920\\3831443199.py:6: FutureWarning: The pandas.datetime class is deprecated and will be removed from pandas in a future version. Import from datetime module instead.\n",
      "  return pd.datetime(year, x.month, x.day)\n"
     ]
    }
   ],
   "source": [
    "def acc_year(x):\n",
    "    if x.year > 2021:\n",
    "        year = x.year - 100\n",
    "    else:\n",
    "        year = x.year\n",
    "    return pd.datetime(year, x.month, x.day)\n",
    "\n",
    "data.index = data.index.map(acc_year)"
   ]
  },
  {
   "cell_type": "markdown",
   "id": "4f3a6651",
   "metadata": {},
   "source": [
    " ### Step 5. Set the right dates as the index. Pay attention at the data type, it should be datetime64.\n",
    " "
   ]
  },
  {
   "cell_type": "code",
   "execution_count": 288,
   "id": "f500db00",
   "metadata": {},
   "outputs": [],
   "source": [
    "data.index = pd.to_datetime(data.index)"
   ]
  },
  {
   "cell_type": "markdown",
   "id": "fd15aca5",
   "metadata": {},
   "source": [
    "### Step 6. Compute how many values are missing for each location over the entire record. They should be ignored in all calculations below."
   ]
  },
  {
   "cell_type": "code",
   "execution_count": 289,
   "id": "05b866e4",
   "metadata": {},
   "outputs": [
    {
     "name": "stdout",
     "output_type": "stream",
     "text": [
      "Number of missing values for each location:\n",
      "RPT    6\n",
      "VAL    3\n",
      "ROS    2\n",
      "KIL    5\n",
      "SHA    2\n",
      "BIR    0\n",
      "DUB    3\n",
      "CLA    2\n",
      "MUL    3\n",
      "CLO    1\n",
      "BEL    0\n",
      "MAL    4\n",
      "dtype: int64\n"
     ]
    }
   ],
   "source": [
    "print('Number of missing values for each location:')\n",
    "missing_val = data.isnull().sum()\n",
    "print(missing_values)"
   ]
  },
  {
   "cell_type": "markdown",
   "id": "ed3ae95c",
   "metadata": {},
   "source": [
    "### Step 7. Compute how many non-missing values there are in total."
   ]
  },
  {
   "cell_type": "code",
   "execution_count": 290,
   "id": "42f78593",
   "metadata": {},
   "outputs": [
    {
     "name": "stdout",
     "output_type": "stream",
     "text": [
      "Number of non-missing values: 78857\n"
     ]
    }
   ],
   "source": [
    "nonmissing_val = np.sum(data.notnull().sum())\n",
    "print('Number of non-missing values:',nonmissing_val)"
   ]
  },
  {
   "cell_type": "markdown",
   "id": "445e95a9",
   "metadata": {},
   "source": [
    "### Step 8. Calculate the mean windspeeds of the windspeeds over all the locations and all the times. A single number for the entire dataset."
   ]
  },
  {
   "cell_type": "code",
   "execution_count": 291,
   "id": "67a64689",
   "metadata": {},
   "outputs": [
    {
     "name": "stdout",
     "output_type": "stream",
     "text": [
      "The mean windspeeds of the windspeeds over all the locations and all the times: 10.227982360836924\n"
     ]
    }
   ],
   "source": [
    "mean_windspeed = data.mean().mean()\n",
    "print('The mean windspeeds of the windspeeds over all the locations and all the times:' , mean_windspeed)"
   ]
  },
  {
   "cell_type": "markdown",
   "id": "58d86111",
   "metadata": {},
   "source": [
    "### Step 9. Create a DataFrame called loc_stats and calculate the min, max and mean windspeeds and standard deviations of the windspeeds at each location over all the days. A different set of numbers for each location."
   ]
  },
  {
   "cell_type": "code",
   "execution_count": 292,
   "id": "f401ddfa",
   "metadata": {},
   "outputs": [
    {
     "name": "stdout",
     "output_type": "stream",
     "text": [
      "      min    max       mean       std\n",
      "RPT  0.67  35.80  12.362987  5.618413\n",
      "VAL  0.21  33.37  10.644314  5.267356\n",
      "ROS  1.50  33.84  11.660526  5.008450\n",
      "KIL  0.00  28.46   6.306468  3.605811\n",
      "SHA  0.13  37.54  10.455834  4.936125\n",
      "BIR  0.00  26.16   7.092254  3.968683\n",
      "DUB  0.00  30.37   9.797343  4.977555\n",
      "CLA  0.00  31.08   8.495053  4.499449\n",
      "MUL  0.00  25.88   8.493590  4.166872\n",
      "CLO  0.04  28.21   8.707332  4.503954\n",
      "BEL  0.13  42.38  13.121007  5.835037\n",
      "MAL  0.67  42.54  15.599079  6.699794\n"
     ]
    }
   ],
   "source": [
    "loc_stats = pd.DataFrame()\n",
    "loc_stats['min'] = data.min()\n",
    "loc_stats['max'] = data.max()\n",
    "loc_stats['mean'] = data.mean()\n",
    "loc_stats['std'] = data.std()\n",
    "\n",
    "print(loc_stats)"
   ]
  },
  {
   "cell_type": "markdown",
   "id": "fcffc816",
   "metadata": {},
   "source": [
    "### Step 10. Create a DataFrame called day_stats and calculate the min, max and mean windspeed and standard deviations of the windspeeds across all the locations at each day. A different set of numbers for each day."
   ]
  },
  {
   "cell_type": "code",
   "execution_count": 293,
   "id": "77f21fbd",
   "metadata": {},
   "outputs": [
    {
     "name": "stdout",
     "output_type": "stream",
     "text": [
      "             min    max       mean       std\n",
      "Yr_Mo_Dy                                    \n",
      "1961-01-01  9.29  18.50  13.018182  2.808875\n",
      "1961-01-02  6.50  17.54  11.336364  3.188994\n",
      "1961-01-03  6.17  18.50  11.641818  3.681912\n",
      "1961-01-04  1.79  11.75   6.619167  3.198126\n",
      "1961-01-05  6.17  13.33  10.630000  2.445356\n",
      "...          ...    ...        ...       ...\n",
      "1978-12-27  8.08  40.08  16.708333  7.868076\n",
      "1978-12-28  5.00  41.46  15.150000  9.687857\n",
      "1978-12-29  8.71  29.58  14.890000  5.756836\n",
      "1978-12-30  9.13  28.79  15.367500  5.540437\n",
      "1978-12-31  9.59  27.29  15.402500  5.702483\n",
      "\n",
      "[6574 rows x 4 columns]\n"
     ]
    }
   ],
   "source": [
    "day_stats = pd.DataFrame()\n",
    "day_stats['min'] = data.min(axis=1)\n",
    "day_stats['max'] = data.max(axis=1)\n",
    "day_stats['mean'] = data.mean(axis=1)\n",
    "day_stats['std'] = data.std(axis=1)\n",
    "print(day_stats)"
   ]
  },
  {
   "cell_type": "markdown",
   "id": "58bb7d5b",
   "metadata": {},
   "source": [
    "### Step 11. Find the average windspeed in January for each location. Treat January 1961 and January 1962 both as January."
   ]
  },
  {
   "cell_type": "code",
   "execution_count": 294,
   "id": "f52d9997",
   "metadata": {},
   "outputs": [
    {
     "name": "stdout",
     "output_type": "stream",
     "text": [
      "The average windspeed in January for each location:\n",
      "RPT    14.847325\n",
      "VAL    12.914560\n",
      "ROS    13.299624\n",
      "KIL     7.199498\n",
      "SHA    11.667734\n",
      "BIR     8.054839\n",
      "DUB    11.819355\n",
      "CLA     9.512047\n",
      "MUL     9.543208\n",
      "CLO    10.053566\n",
      "BEL    14.550520\n",
      "MAL    18.028763\n",
      "dtype: float64\n"
     ]
    }
   ],
   "source": [
    "jan_data = data[data.index.month == 1]\n",
    "jan_mean = jan_data.mean()\n",
    "print('The average windspeed in January for each location:')\n",
    "print(jan_mean)"
   ]
  },
  {
   "cell_type": "markdown",
   "id": "9ee69fb9",
   "metadata": {},
   "source": [
    "### Step 12. Downsample the record to a yearly frequency for each location."
   ]
  },
  {
   "cell_type": "code",
   "execution_count": 295,
   "id": "5a130e89",
   "metadata": {},
   "outputs": [
    {
     "name": "stdout",
     "output_type": "stream",
     "text": [
      "                RPT        VAL        ROS       KIL        SHA       BIR  \\\n",
      "Yr_Mo_Dy                                                                   \n",
      "1961      12.299583  10.351796  11.362369  6.958227  10.881763  7.729726   \n",
      "1962      12.246923  10.110438  11.732712  6.960440  10.657918  7.393068   \n",
      "1963      12.813452  10.836986  12.541151  7.330055  11.724110  8.434712   \n",
      "1964      12.363661  10.920164  12.104372  6.787787  11.454481  7.570874   \n",
      "1965      12.451370  11.075534  11.848767  6.858466  11.024795  7.478110   \n",
      "1966      13.461973  11.557205  12.020630  7.345726  11.805041  7.793671   \n",
      "1967      12.737151  10.990986  11.739397  7.143425  11.630740  7.368164   \n",
      "1968      11.835628  10.468197  11.409754  6.477678  10.760765  6.067322   \n",
      "1969      11.166356   9.723699  10.902000  5.767973   9.873918  6.189973   \n",
      "1970      12.600329  10.726932  11.730247  6.217178  10.567370  7.609452   \n",
      "1971      11.273123   9.095178  11.088329  5.241507   9.440329  6.097151   \n",
      "1972      12.463962  10.561311  12.058333  5.929699   9.430410  6.358825   \n",
      "1973      11.828466  10.680493  10.680493  5.547863   9.640877  6.548740   \n",
      "1974      13.643096  11.811781  12.336356  6.427041  11.110986  6.809781   \n",
      "1975      12.008575  10.293836  11.564712  5.269096   9.190082  5.668521   \n",
      "1976      11.737842  10.203115  10.761230  5.109426   8.846339  6.311038   \n",
      "1977      13.099616  11.144493  12.627836  6.073945  10.003836  8.586438   \n",
      "1978      12.504356  11.044274  11.380000  6.082356  10.167233  7.650658   \n",
      "\n",
      "                DUB        CLA       MUL        CLO        BEL        MAL  \n",
      "Yr_Mo_Dy                                                                   \n",
      "1961       9.733923   8.858788  8.647652   9.835577  13.502795  13.680773  \n",
      "1962      11.020712   8.793753  8.316822   9.676247  12.930685  14.323956  \n",
      "1963      11.075699  10.336548  8.903589  10.224438  13.638877  14.999014  \n",
      "1964      10.259153   9.467350  7.789016  10.207951  13.740546  14.910301  \n",
      "1965      10.618712   8.879918  7.907425   9.918082  12.964247  15.591644  \n",
      "1966      10.579808   8.835096  8.514438   9.768959  14.265836  16.307260  \n",
      "1967      10.652027   9.325616  8.645014   9.547425  14.774548  17.135945  \n",
      "1968       8.859180   8.255519  7.224945   7.832978  12.808634  15.017486  \n",
      "1969       8.564493   7.711397  7.924521   7.754384  12.621233  15.762904  \n",
      "1970       9.609890   8.334630  9.297616   8.289808  13.183644  16.456027  \n",
      "1971       8.385890   6.757315  7.915370   7.229753  12.208932  15.025233  \n",
      "1972       9.704508   7.680792  8.357295   7.515273  12.727377  15.028716  \n",
      "1973       8.482110   7.614274  8.245534   7.812411  12.169699  15.441096  \n",
      "1974      10.084603   9.896986  9.331753   8.736356  13.252959  16.947671  \n",
      "1975       8.562603   7.843836  8.797945   7.382822  12.631671  15.307863  \n",
      "1976       9.149126   7.146202  8.883716   7.883087  12.332377  15.471448  \n",
      "1977      11.523205   8.378384  9.098192   8.821616  13.459068  16.590849  \n",
      "1978       9.489342   8.800466  9.089753   8.301699  12.967397  16.771370  \n"
     ]
    }
   ],
   "source": [
    "yearly=data.groupby(data.index.to_period('Y')).mean()\n",
    "print(yearly)"
   ]
  },
  {
   "cell_type": "markdown",
   "id": "98893241",
   "metadata": {},
   "source": [
    "### Step 13. Downsample the record to a monthly frequency for each location."
   ]
  },
  {
   "cell_type": "code",
   "execution_count": 296,
   "id": "441b0270",
   "metadata": {},
   "outputs": [
    {
     "name": "stdout",
     "output_type": "stream",
     "text": [
      "                RPT        VAL        ROS       KIL        SHA        BIR  \\\n",
      "Yr_Mo_Dy                                                                    \n",
      "1961-01   14.841333  11.988333  13.431613  7.736774  11.072759   8.588065   \n",
      "1961-02   16.269286  14.975357  14.441481  9.230741  13.852143  10.937500   \n",
      "1961-03   10.890000  11.296452  10.752903  7.284000  10.509355   8.866774   \n",
      "1961-04   10.722667   9.427667   9.998000  5.830667   8.435000   6.495000   \n",
      "1961-05    9.860968   8.850000  10.818065  5.905333   9.490323   6.574839   \n",
      "...             ...        ...        ...       ...        ...        ...   \n",
      "1978-08    9.645161   8.259355   9.032258  4.502903   7.368065   5.935161   \n",
      "1978-09   10.913667  10.895000  10.635000  5.725000  10.372000   9.278333   \n",
      "1978-10    9.897742   8.670968   9.295806  4.721290   8.525161   6.774194   \n",
      "1978-11   16.151667  14.802667  13.508000  7.317333  11.475000   8.743000   \n",
      "1978-12   16.175484  13.748065  15.635161  7.094839  11.398710   9.241613   \n",
      "\n",
      "                DUB        CLA        MUL        CLO        BEL        MAL  \n",
      "Yr_Mo_Dy                                                                    \n",
      "1961-01   11.184839   9.245333   9.085806  10.107419  13.880968  14.703226  \n",
      "1961-02   11.890714  11.846071  11.821429  12.714286  18.583214  15.411786  \n",
      "1961-03    9.644194   9.829677  10.294138  11.251935  16.410968  15.720000  \n",
      "1961-04    6.925333   7.094667   7.342333   7.237000  11.147333  10.278333  \n",
      "1961-05    7.604000   8.177097   8.039355   8.499355  11.900323  12.011613  \n",
      "...             ...        ...        ...        ...        ...        ...  \n",
      "1978-08    5.650323   5.417742   7.241290   5.536774  10.466774  12.054194  \n",
      "1978-09   10.790333   9.583000  10.069333   8.939000  15.680333  19.391333  \n",
      "1978-10    8.115484   7.337742   8.297742   8.243871  13.776774  17.150000  \n",
      "1978-11   11.492333   9.657333  10.701333  10.676000  17.404667  20.723000  \n",
      "1978-12   12.077419  10.194839  10.616774  11.028710  13.859677  21.371613  \n",
      "\n",
      "[216 rows x 12 columns]\n"
     ]
    }
   ],
   "source": [
    "monthly=data.groupby(data.index.to_period('M')).mean()\n",
    "print(monthly)"
   ]
  },
  {
   "cell_type": "markdown",
   "id": "986f65c9",
   "metadata": {},
   "source": [
    "### Step 14. Downsample the record to a weekly frequency for each location."
   ]
  },
  {
   "cell_type": "code",
   "execution_count": 297,
   "id": "0c25f3fd",
   "metadata": {},
   "outputs": [
    {
     "name": "stdout",
     "output_type": "stream",
     "text": [
      "                             RPT        VAL        ROS        KIL        SHA  \\\n",
      "Yr_Mo_Dy                                                                       \n",
      "1960-12-26/1961-01-01  15.040000  14.960000  13.170000   9.290000        NaN   \n",
      "1961-01-02/1961-01-08  13.541429  11.486667  10.487143   6.417143   9.474286   \n",
      "1961-01-09/1961-01-15  12.468571   8.967143  11.958571   4.630000   7.351429   \n",
      "1961-01-16/1961-01-22  13.204286   9.862857  12.982857   6.328571   8.966667   \n",
      "1961-01-23/1961-01-29  19.880000  16.141429  18.225714  12.720000  17.432857   \n",
      "...                          ...        ...        ...        ...        ...   \n",
      "1978-11-27/1978-12-03  14.934286  11.232857  13.941429   5.565714  10.215714   \n",
      "1978-12-04/1978-12-10  20.740000  19.190000  17.034286   9.777143  15.287143   \n",
      "1978-12-11/1978-12-17  16.758571  14.692857  14.987143   6.917143  11.397143   \n",
      "1978-12-18/1978-12-24  11.155714   8.008571  13.172857   4.004286   7.825714   \n",
      "1978-12-25/1978-12-31  14.951429  11.801429  16.035714   6.507143   9.660000   \n",
      "\n",
      "                             BIR        DUB        CLA        MUL        CLO  \\\n",
      "Yr_Mo_Dy                                                                       \n",
      "1960-12-26/1961-01-01   9.870000  13.670000  10.250000  10.830000  12.580000   \n",
      "1961-01-02/1961-01-08   6.435714  11.061429   6.616667   8.434286   8.497143   \n",
      "1961-01-09/1961-01-15   5.072857   7.535714   6.820000   5.712857   7.571429   \n",
      "1961-01-16/1961-01-22   7.417143   9.257143   7.875714   7.145714   8.124286   \n",
      "1961-01-23/1961-01-29  14.828571  15.528571  15.160000  14.480000  15.640000   \n",
      "...                          ...        ...        ...        ...        ...   \n",
      "1978-11-27/1978-12-03   8.618571   9.642857   7.685714   9.011429   9.547143   \n",
      "1978-12-04/1978-12-10  12.774286  14.437143  12.488571  13.870000  14.082857   \n",
      "1978-12-11/1978-12-17   7.272857  10.208571   7.967143   9.168571   8.565714   \n",
      "1978-12-18/1978-12-24   6.290000   7.798571   8.667143   7.151429   8.072857   \n",
      "1978-12-25/1978-12-31   8.620000  13.708571  10.477143  10.868571  11.471429   \n",
      "\n",
      "                             BEL        MAL  \n",
      "Yr_Mo_Dy                                     \n",
      "1960-12-26/1961-01-01  18.500000  15.040000  \n",
      "1961-01-02/1961-01-08  12.481429  13.238571  \n",
      "1961-01-09/1961-01-15  11.125714  11.024286  \n",
      "1961-01-16/1961-01-22   9.821429  11.434286  \n",
      "1961-01-23/1961-01-29  20.930000  22.530000  \n",
      "...                          ...        ...  \n",
      "1978-11-27/1978-12-03  11.835714  18.728571  \n",
      "1978-12-04/1978-12-10  18.517143  23.061429  \n",
      "1978-12-11/1978-12-17  11.102857  15.562857  \n",
      "1978-12-18/1978-12-24  11.845714  18.977143  \n",
      "1978-12-25/1978-12-31  12.947143  26.844286  \n",
      "\n",
      "[940 rows x 12 columns]\n"
     ]
    }
   ],
   "source": [
    "weekly=data.groupby(data.index.to_period('W')).mean()\n",
    "print(weekly)"
   ]
  },
  {
   "cell_type": "markdown",
   "id": "2cbe6318",
   "metadata": {},
   "source": [
    "### Step 15. Calculate the min, max and mean windspeeds and standard deviations of the windspeeds across all locations for each week (assume that the first week starts on B January 2 1961) for the first 52 weeks."
   ]
  },
  {
   "cell_type": "code",
   "execution_count": 298,
   "id": "fb994d4b",
   "metadata": {},
   "outputs": [
    {
     "name": "stdout",
     "output_type": "stream",
     "text": [
      "              min    max       mean       std\n",
      "Yr_Mo_Dy                                     \n",
      "1961-01-01   9.29  18.50  13.018182  2.808875\n",
      "1961-01-08   6.50  17.54  11.798333  3.436009\n",
      "1961-01-15   4.75  15.37   9.897500  2.905954\n",
      "1961-01-22   4.71  16.42  10.164167  3.521277\n",
      "1961-01-29   9.96  20.58  14.034167  3.208592\n",
      "1961-02-05   7.92  19.25  12.490833  3.513766\n",
      "1961-02-12  14.46  26.38  20.315833  3.735898\n",
      "1961-02-19  13.96  28.62  18.060833  4.261164\n",
      "1961-02-26   7.25  15.09  10.205000  2.225417\n",
      "1961-03-05   6.87  20.00  12.420000  3.543481\n",
      "1961-03-12   2.83  10.21   5.607500  2.095797\n",
      "1961-03-19   5.63  19.70  12.556667  3.780725\n",
      "1961-03-26  10.04  21.09  13.082500  3.101126\n",
      "1961-04-02   1.46  15.34   5.667500  3.616455\n",
      "1961-04-09   4.12  15.67   9.170000  3.624312\n",
      "1961-04-16   3.00  11.25   5.850000  2.276053\n",
      "1961-04-23   0.83  10.04   3.946667  2.508184\n",
      "1961-04-30   4.79   9.87   7.422500  1.691907\n",
      "1961-05-07   9.75  18.63  12.663333  2.975599\n",
      "1961-05-14  10.08  26.30  15.856667  4.424955\n",
      "1961-05-21   3.46   9.75   6.310833  2.086744\n",
      "1961-05-28   2.42  10.92   5.122500  2.422771\n",
      "1961-06-04   6.67  17.96  11.222500  3.217566\n",
      "1961-06-11   3.42  16.17   9.360833  3.471514\n",
      "1961-06-18   2.88  13.46   7.355000  3.055122\n",
      "1961-06-25   6.38  16.88   9.874167  2.949257\n",
      "1961-07-02   5.96  13.13   9.660833  2.295151\n",
      "1961-07-09  10.08  21.29  15.180000  3.700843\n",
      "1961-07-16   2.67   9.46   5.677500  2.570052\n",
      "1961-07-23   1.46   9.13   5.176667  2.255439\n",
      "1961-07-30   2.21   9.25   4.918333  2.021371\n",
      "1961-08-06   2.25   9.67   5.543333  2.473012\n",
      "1961-08-13   2.88   9.83   5.060833  1.982053\n",
      "1961-08-20   8.79  16.42  13.024167  2.459255\n",
      "1961-08-27  11.67  22.29  17.305000  3.086188\n",
      "1961-09-03   9.08  22.00  14.905000  3.715864\n",
      "1961-09-10   1.25   6.79   3.471667  1.648034\n",
      "1961-09-17   5.46  14.67   9.622500  2.694537\n",
      "1961-09-24   4.17  12.17   6.886667  2.549112\n",
      "1961-10-01   5.79  20.17  11.361667  3.978816\n",
      "1961-10-08   7.58  19.62  10.957500  3.418333\n",
      "1961-10-15   7.46  20.96  11.354167  4.024752\n",
      "1961-10-22   9.21  24.62  13.844167  4.437998\n",
      "1961-10-29  10.79  25.00  16.625000  4.109420\n",
      "1961-11-05   6.38  20.62  11.806667  3.987000\n",
      "1961-11-12   3.04  13.50   7.450833  3.066249\n",
      "1961-11-19   9.25  32.71  14.381667  6.736009\n",
      "1961-11-26   3.29  14.46   8.104167  3.347125\n",
      "1961-12-03   1.92  10.58   4.945833  2.495317\n",
      "1961-12-10   9.83  22.83  15.890833  4.260989\n",
      "1961-12-17  13.62  25.62  18.426667  3.573873\n",
      "1961-12-24   1.79  12.17   6.424167  3.201879\n"
     ]
    }
   ],
   "source": [
    "weekly_data = data.resample('W').first().iloc[:52]\n",
    "weekly_stats = weekly_data.agg(['min', 'max', 'mean', 'std'], axis=1)\n",
    "print(weekly_stats)"
   ]
  },
  {
   "cell_type": "markdown",
   "id": "a7b452eb",
   "metadata": {},
   "source": [
    "# Question 5"
   ]
  },
  {
   "cell_type": "markdown",
   "id": "7922d379",
   "metadata": {},
   "source": [
    "### Step 1. Import the necessary libraries"
   ]
  },
  {
   "cell_type": "code",
   "execution_count": 19,
   "id": "4ed16439",
   "metadata": {},
   "outputs": [],
   "source": [
    "import pandas as pd\n",
    "import numpy as np"
   ]
  },
  {
   "cell_type": "markdown",
   "id": "c7d2190a",
   "metadata": {},
   "source": [
    "### Step 2. Import the dataset from this address."
   ]
  },
  {
   "cell_type": "code",
   "execution_count": 20,
   "id": "a13752a4",
   "metadata": {},
   "outputs": [],
   "source": [
    "url = 'https://raw.githubusercontent.com/justmarkham/DAT8/master/data/chipotle.tsv'"
   ]
  },
  {
   "cell_type": "markdown",
   "id": "2f45d8bf",
   "metadata": {},
   "source": [
    "### Step 3. Assign it to a variable called chipo."
   ]
  },
  {
   "cell_type": "code",
   "execution_count": 21,
   "id": "fba36c5f",
   "metadata": {},
   "outputs": [],
   "source": [
    "chipo = pd.read_csv(url, sep='\\t')"
   ]
  },
  {
   "cell_type": "markdown",
   "id": "8a65d0d0",
   "metadata": {},
   "source": [
    "### Step 4. See the first 10 entries"
   ]
  },
  {
   "cell_type": "code",
   "execution_count": 34,
   "id": "a507d3d0",
   "metadata": {},
   "outputs": [
    {
     "name": "stdout",
     "output_type": "stream",
     "text": [
      "FIRST 10 ENRIES:\n"
     ]
    },
    {
     "data": {
      "text/html": [
       "<div>\n",
       "<style scoped>\n",
       "    .dataframe tbody tr th:only-of-type {\n",
       "        vertical-align: middle;\n",
       "    }\n",
       "\n",
       "    .dataframe tbody tr th {\n",
       "        vertical-align: top;\n",
       "    }\n",
       "\n",
       "    .dataframe thead th {\n",
       "        text-align: right;\n",
       "    }\n",
       "</style>\n",
       "<table border=\"1\" class=\"dataframe\">\n",
       "  <thead>\n",
       "    <tr style=\"text-align: right;\">\n",
       "      <th></th>\n",
       "      <th>order_id</th>\n",
       "      <th>quantity</th>\n",
       "      <th>item_name</th>\n",
       "      <th>choice_description</th>\n",
       "      <th>item_price</th>\n",
       "    </tr>\n",
       "  </thead>\n",
       "  <tbody>\n",
       "    <tr>\n",
       "      <th>0</th>\n",
       "      <td>1</td>\n",
       "      <td>1</td>\n",
       "      <td>Chips and Fresh Tomato Salsa</td>\n",
       "      <td>NaN</td>\n",
       "      <td>$2.39</td>\n",
       "    </tr>\n",
       "    <tr>\n",
       "      <th>1</th>\n",
       "      <td>1</td>\n",
       "      <td>1</td>\n",
       "      <td>Izze</td>\n",
       "      <td>[Clementine]</td>\n",
       "      <td>$3.39</td>\n",
       "    </tr>\n",
       "    <tr>\n",
       "      <th>2</th>\n",
       "      <td>1</td>\n",
       "      <td>1</td>\n",
       "      <td>Nantucket Nectar</td>\n",
       "      <td>[Apple]</td>\n",
       "      <td>$3.39</td>\n",
       "    </tr>\n",
       "    <tr>\n",
       "      <th>3</th>\n",
       "      <td>1</td>\n",
       "      <td>1</td>\n",
       "      <td>Chips and Tomatillo-Green Chili Salsa</td>\n",
       "      <td>NaN</td>\n",
       "      <td>$2.39</td>\n",
       "    </tr>\n",
       "    <tr>\n",
       "      <th>4</th>\n",
       "      <td>2</td>\n",
       "      <td>2</td>\n",
       "      <td>Chicken Bowl</td>\n",
       "      <td>[Tomatillo-Red Chili Salsa (Hot), [Black Beans...</td>\n",
       "      <td>$16.98</td>\n",
       "    </tr>\n",
       "    <tr>\n",
       "      <th>5</th>\n",
       "      <td>3</td>\n",
       "      <td>1</td>\n",
       "      <td>Chicken Bowl</td>\n",
       "      <td>[Fresh Tomato Salsa (Mild), [Rice, Cheese, Sou...</td>\n",
       "      <td>$10.98</td>\n",
       "    </tr>\n",
       "    <tr>\n",
       "      <th>6</th>\n",
       "      <td>3</td>\n",
       "      <td>1</td>\n",
       "      <td>Side of Chips</td>\n",
       "      <td>NaN</td>\n",
       "      <td>$1.69</td>\n",
       "    </tr>\n",
       "    <tr>\n",
       "      <th>7</th>\n",
       "      <td>4</td>\n",
       "      <td>1</td>\n",
       "      <td>Steak Burrito</td>\n",
       "      <td>[Tomatillo Red Chili Salsa, [Fajita Vegetables...</td>\n",
       "      <td>$11.75</td>\n",
       "    </tr>\n",
       "    <tr>\n",
       "      <th>8</th>\n",
       "      <td>4</td>\n",
       "      <td>1</td>\n",
       "      <td>Steak Soft Tacos</td>\n",
       "      <td>[Tomatillo Green Chili Salsa, [Pinto Beans, Ch...</td>\n",
       "      <td>$9.25</td>\n",
       "    </tr>\n",
       "    <tr>\n",
       "      <th>9</th>\n",
       "      <td>5</td>\n",
       "      <td>1</td>\n",
       "      <td>Steak Burrito</td>\n",
       "      <td>[Fresh Tomato Salsa, [Rice, Black Beans, Pinto...</td>\n",
       "      <td>$9.25</td>\n",
       "    </tr>\n",
       "  </tbody>\n",
       "</table>\n",
       "</div>"
      ],
      "text/plain": [
       "   order_id  quantity                              item_name  \\\n",
       "0         1         1           Chips and Fresh Tomato Salsa   \n",
       "1         1         1                                   Izze   \n",
       "2         1         1                       Nantucket Nectar   \n",
       "3         1         1  Chips and Tomatillo-Green Chili Salsa   \n",
       "4         2         2                           Chicken Bowl   \n",
       "5         3         1                           Chicken Bowl   \n",
       "6         3         1                          Side of Chips   \n",
       "7         4         1                          Steak Burrito   \n",
       "8         4         1                       Steak Soft Tacos   \n",
       "9         5         1                          Steak Burrito   \n",
       "\n",
       "                                  choice_description item_price  \n",
       "0                                                NaN     $2.39   \n",
       "1                                       [Clementine]     $3.39   \n",
       "2                                            [Apple]     $3.39   \n",
       "3                                                NaN     $2.39   \n",
       "4  [Tomatillo-Red Chili Salsa (Hot), [Black Beans...    $16.98   \n",
       "5  [Fresh Tomato Salsa (Mild), [Rice, Cheese, Sou...    $10.98   \n",
       "6                                                NaN     $1.69   \n",
       "7  [Tomatillo Red Chili Salsa, [Fajita Vegetables...    $11.75   \n",
       "8  [Tomatillo Green Chili Salsa, [Pinto Beans, Ch...     $9.25   \n",
       "9  [Fresh Tomato Salsa, [Rice, Black Beans, Pinto...     $9.25   "
      ]
     },
     "execution_count": 34,
     "metadata": {},
     "output_type": "execute_result"
    }
   ],
   "source": [
    "print('FIRST 10 ENRIES:')\n",
    "chipo.head(10)"
   ]
  },
  {
   "cell_type": "markdown",
   "id": "cf7b1d27",
   "metadata": {},
   "source": [
    "### Step 5. What is the number of observations in the dataset?"
   ]
  },
  {
   "cell_type": "code",
   "execution_count": 113,
   "id": "2ac43d5f",
   "metadata": {},
   "outputs": [
    {
     "name": "stdout",
     "output_type": "stream",
     "text": [
      "TOTAL NUMBER OF OBSERVATION: 4622\n"
     ]
    }
   ],
   "source": [
    "print('TOTAL NUMBER OF OBSERVATION:',chipo.shape[0])  "
   ]
  },
  {
   "cell_type": "markdown",
   "id": "55084cc2",
   "metadata": {},
   "source": [
    "### Step 6. What is the number of columns in the dataset?"
   ]
  },
  {
   "cell_type": "code",
   "execution_count": 112,
   "id": "cd6de8f6",
   "metadata": {},
   "outputs": [
    {
     "name": "stdout",
     "output_type": "stream",
     "text": [
      "TOTAL NUMBER OF COLUMNS: 5\n"
     ]
    }
   ],
   "source": [
    "print('TOTAL NUMBER OF COLUMNS:',chipo.shape[1]) "
   ]
  },
  {
   "cell_type": "markdown",
   "id": "90d5c6b2",
   "metadata": {},
   "source": [
    "### Step 7. Print the name of all the columns."
   ]
  },
  {
   "cell_type": "code",
   "execution_count": 111,
   "id": "2102a9bf",
   "metadata": {},
   "outputs": [
    {
     "name": "stdout",
     "output_type": "stream",
     "text": [
      "NAME OF THE COLUMNS ARE: ['order_id' 'quantity' 'item_name' 'choice_description' 'item_price']\n"
     ]
    }
   ],
   "source": [
    "print('NAME OF THE COLUMNS ARE:',chipo.columns.values)  "
   ]
  },
  {
   "cell_type": "markdown",
   "id": "9376866e",
   "metadata": {},
   "source": [
    "### Step 8. How is the dataset indexed?"
   ]
  },
  {
   "cell_type": "code",
   "execution_count": 110,
   "id": "5fbde4b6",
   "metadata": {},
   "outputs": [
    {
     "name": "stdout",
     "output_type": "stream",
     "text": [
      "DATASET INDEX: RangeIndex(start=0, stop=4622, step=1)\n"
     ]
    }
   ],
   "source": [
    "print('DATASET INDEX:',chipo.index)"
   ]
  },
  {
   "cell_type": "markdown",
   "id": "4f92e097",
   "metadata": {},
   "source": [
    "### Step 9. Which was the most-ordered item?"
   ]
  },
  {
   "cell_type": "code",
   "execution_count": 116,
   "id": "8d7dc083",
   "metadata": {},
   "outputs": [
    {
     "name": "stdout",
     "output_type": "stream",
     "text": [
      "THE MOST ORDERED ITEM IS:\n",
      "Chicken Bowl\n"
     ]
    }
   ],
   "source": [
    "count = chipo.groupby('item_name')['quantity'].sum()\n",
    "print('THE MOST ORDERED ITEM IS:')\n",
    "print(count.sort_values(ascending=False).head(1).index[0])"
   ]
  },
  {
   "cell_type": "markdown",
   "id": "d435dc6f",
   "metadata": {},
   "source": [
    "### Step 10. For the most-ordered item, how many items were ordered?"
   ]
  },
  {
   "cell_type": "code",
   "execution_count": 75,
   "id": "432016e4",
   "metadata": {},
   "outputs": [
    {
     "name": "stdout",
     "output_type": "stream",
     "text": [
      "THE COUNT OF MOST ORDERED ITEM IS:\n",
      "761\n"
     ]
    }
   ],
   "source": [
    "print('THE COUNT OF MOST ORDERED ITEM IS:')\n",
    "count = chipo.groupby('item_name')['quantity'].sum()\n",
    "print(count.sort_values(ascending=False).head(1).values[0])"
   ]
  },
  {
   "cell_type": "markdown",
   "id": "426069fe",
   "metadata": {},
   "source": [
    "### Step 11. What was the most ordered item in the choice_description column?"
   ]
  },
  {
   "cell_type": "code",
   "execution_count": 46,
   "id": "0ac68093",
   "metadata": {},
   "outputs": [
    {
     "name": "stdout",
     "output_type": "stream",
     "text": [
      "THE MOST ORDERED ITEM IN CHOICE DESCRIPTION COLUMN IS:\n",
      "[Diet Coke]\n"
     ]
    }
   ],
   "source": [
    "print('THE MOST ORDERED ITEM IN CHOICE DESCRIPTION COLUMN IS:')\n",
    "choice_count = chipo.groupby('choice_description')['quantity'].sum()\n",
    "print(choice_count.sort_values(ascending=False).head(1).index[0])"
   ]
  },
  {
   "cell_type": "markdown",
   "id": "d0927da3",
   "metadata": {},
   "source": [
    "### Step 12. How many items were ordered in total?"
   ]
  },
  {
   "cell_type": "code",
   "execution_count": 76,
   "id": "9a32cf77",
   "metadata": {},
   "outputs": [
    {
     "name": "stdout",
     "output_type": "stream",
     "text": [
      "TOTAL ORDERED ITEMS ARE:\n",
      "4972\n"
     ]
    }
   ],
   "source": [
    "print('TOTAL ORDERED ITEMS ARE:')\n",
    "totalorder = chipo['quantity'].sum()\n",
    "print(totalorder)   "
   ]
  },
  {
   "cell_type": "markdown",
   "id": "c5172a0a",
   "metadata": {},
   "source": [
    "### Step 13.\n",
    "#### • Turn the item price into a float\n",
    "#### • Check the item price type\n",
    "#### • Create a lambda function and change the type of item price\n",
    "#### • Check the item price type"
   ]
  },
  {
   "cell_type": "code",
   "execution_count": 73,
   "id": "1e72625d",
   "metadata": {},
   "outputs": [
    {
     "name": "stdout",
     "output_type": "stream",
     "text": [
      "float64\n",
      "int64\n"
     ]
    }
   ],
   "source": [
    "chipo['item_price'] = chipo['item_price'].apply(lambda x: float(x))\n",
    "print(chipo['item_price'].dtype)\n",
    "chipo['item_price'] = chipo['item_price'].apply(lambda x: int(x))\n",
    "print(chipo['item_price'].dtype)"
   ]
  },
  {
   "cell_type": "markdown",
   "id": "bf99337e",
   "metadata": {},
   "source": [
    "### Step 14. How much was the revenue for the period in the dataset?"
   ]
  },
  {
   "cell_type": "code",
   "execution_count": 69,
   "id": "9d886cd5",
   "metadata": {},
   "outputs": [
    {
     "name": "stdout",
     "output_type": "stream",
     "text": [
      "REVENUE FOR THE PERIOD:\n",
      "36616\n"
     ]
    }
   ],
   "source": [
    "print('REVENUE FOR THE PERIOD:')\n",
    "revenue = (chipo['quantity'] * chipo['item_price']).sum()\n",
    "print(round(revenue, 2))"
   ]
  },
  {
   "cell_type": "markdown",
   "id": "71b93150",
   "metadata": {},
   "source": [
    "### Step 15. How many orders were made in the period?"
   ]
  },
  {
   "cell_type": "code",
   "execution_count": 70,
   "id": "a8756f01",
   "metadata": {},
   "outputs": [
    {
     "name": "stdout",
     "output_type": "stream",
     "text": [
      "TOTAL NUMBER OF ORDER DURING THE PERIOD:\n",
      "1834\n"
     ]
    }
   ],
   "source": [
    "print('TOTAL NUMBER OF ORDER DURING THE PERIOD:')\n",
    "total= chipo['order_id'].nunique()\n",
    "print(total) "
   ]
  },
  {
   "cell_type": "markdown",
   "id": "9c06dbf5",
   "metadata": {},
   "source": [
    "### Step 16. What is the average revenue amount per order?"
   ]
  },
  {
   "cell_type": "code",
   "execution_count": 71,
   "id": "a17260fc",
   "metadata": {},
   "outputs": [
    {
     "name": "stdout",
     "output_type": "stream",
     "text": [
      "AVERAGE REVENUE AMOUNT PER ORDER:\n",
      "19.97\n"
     ]
    }
   ],
   "source": [
    "print('AVERAGE REVENUE AMOUNT PER ORDER:')\n",
    "average = revenue/total_orders\n",
    "print(round(average, 2)) "
   ]
  },
  {
   "cell_type": "markdown",
   "id": "e2a1a7ac",
   "metadata": {},
   "source": [
    "### Step 17. How many different items are sold?"
   ]
  },
  {
   "cell_type": "code",
   "execution_count": 300,
   "id": "d60b71d9",
   "metadata": {},
   "outputs": [
    {
     "name": "stdout",
     "output_type": "stream",
     "text": [
      "NUMBER OF DIFFERENT ITEM SOLD:\n",
      "50\n"
     ]
    }
   ],
   "source": [
    "print('NUMBER OF DIFFERENT ITEM SOLD:')\n",
    "num_items = chipo['item_name'].nunique()\n",
    "print(num_items)"
   ]
  },
  {
   "cell_type": "markdown",
   "id": "57b7abbe",
   "metadata": {},
   "source": [
    "# Question 6"
   ]
  },
  {
   "cell_type": "markdown",
   "id": "b53a3a6e",
   "metadata": {},
   "source": [
    "### Create a line plot showing the number of marriages and divorces per capita in the U.S. between 1867 and 2014. Label both lines and show the legend."
   ]
  },
  {
   "cell_type": "code",
   "execution_count": 80,
   "id": "69ebbca2",
   "metadata": {},
   "outputs": [
    {
     "data": {
      "image/png": "[encoded data removed]",
      "text/plain": [
       "<Figure size 640x480 with 1 Axes>"
      ]
     },
     "metadata": {},
     "output_type": "display_data"
    }
   ],
   "source": [
    "import pandas as pd\n",
    "import matplotlib.pyplot as plt\n",
    "\n",
    "marriage_divorce_ratio = pd.read_csv('us-marriages-divorces-1867-2014.csv')\n",
    "\n",
    "marriage_divorce_ratio['Marriage Rate'] = marriage_divorce_ratio['Marriages']/marriage_divorce_ratio['Population']\n",
    "marriage_divorce_ratio['Divorce Rate'] = marriage_divorce_ratio['Divorces']/marriage_divorce_ratio['Population']\n",
    "\n",
    "plt.plot(marriage_divorce_ratio['Year'], marriage_divorce_ratio['Marriage Rate'], label='Marriage Rate',color='green')\n",
    "plt.plot(marriage_divorce_ratio['Year'], marriage_divorce_ratio['Divorce Rate'], label='Divorce Rate',color='red')\n",
    "\n",
    "plt.title('Marriage and Divorce Rates per Capita in the US (1867-2014)')\n",
    "plt.xlabel('Year(1867-2014)')\n",
    "plt.ylabel('Rate per Capita')\n",
    "\n",
    "plt.legend()\n",
    "\n",
    "plt.show()"
   ]
  },
  {
   "cell_type": "markdown",
   "id": "6f8db003",
   "metadata": {},
   "source": [
    "# Question 7"
   ]
  },
  {
   "cell_type": "markdown",
   "id": "b292106b",
   "metadata": {},
   "source": [
    "### Create a vertical bar chart comparing the number of marriages and divorces per capita in the U.S. between 1900, 1950, and 2000. "
   ]
  },
  {
   "cell_type": "code",
   "execution_count": 109,
   "id": "b537591e",
   "metadata": {},
   "outputs": [
    {
     "data": {
      "image/png": "[encoded data removed]",
      "text/plain": [
       "<Figure size 640x480 with 1 Axes>"
      ]
     },
     "metadata": {},
     "output_type": "display_data"
    }
   ],
   "source": [
    "import pandas as pd\n",
    "import matplotlib.pyplot as plt\n",
    "\n",
    "marriage_divorce_ratio = pd.read_csv('us-marriages-divorces-1867-2014.csv')\n",
    "\n",
    "years = [1900,1910,1920,1930,1940,1950,1960,1970,1980,1990,2000]\n",
    "marriages_per_1000 = []\n",
    "divorces_per_1000 = []\n",
    "\n",
    "for year in years:\n",
    "    data = marriage_divorce_ratio.loc[marriage_divorce_ratio['Year'] == year]\n",
    "    marriages_per_1000.append(data['Marriages_per_1000'].values[0])\n",
    "    divorces_per_1000.append(data['Divorces_per_1000'].values[0])\n",
    "\n",
    "plt.bar(years, marriages_per_1000, width=5, label='Marriages per 1000')\n",
    "plt.bar(years, divorces_per_1000, width=5, label='Divorces per 1000')\n",
    "plt.xlabel('Year')\n",
    "plt.ylabel('Number per 1000')\n",
    "plt.title('Marriages and Divorces per Capita in the U.S. between 1900, 1950, and 2000')\n",
    "plt.legend()\n",
    "plt.show()"
   ]
  },
  {
   "cell_type": "markdown",
   "id": "0a2241e6",
   "metadata": {},
   "source": [
    "# Question 8"
   ]
  },
  {
   "cell_type": "markdown",
   "id": "87652003",
   "metadata": {},
   "source": [
    "### Create a horizontal bar chart that compares the deadliest actors in Hollywood. "
   ]
  },
  {
   "cell_type": "code",
   "execution_count": 90,
   "id": "23abc037",
   "metadata": {},
   "outputs": [
    {
     "data": {
      "image/png": "[encoded data removed]",
      "text/plain": [
       "<Figure size 640x480 with 1 Axes>"
      ]
     },
     "metadata": {},
     "output_type": "display_data"
    }
   ],
   "source": [
    "import pandas as pd\n",
    "import matplotlib.pyplot as plt\n",
    "\n",
    "\n",
    "actor = pd.read_csv('actor_kill_counts.csv')\n",
    "\n",
    "actor = actor.sort_values(by='Count', ascending=False)\n",
    "\n",
    "plt.barh(actor['Actor'], actor['Count'], color='green')\n",
    "plt.xlabel('Kill Count')\n",
    "plt.ylabel('Actor')\n",
    "plt.title('Deadliest Actors in Hollywood')\n",
    "plt.show()\n"
   ]
  },
  {
   "cell_type": "markdown",
   "id": "d233ec51",
   "metadata": {},
   "source": [
    "# Question 9"
   ]
  },
  {
   "cell_type": "markdown",
   "id": "554fbd32",
   "metadata": {},
   "source": [
    "### Create a pie chart showing the fraction of all Roman Emperors that were assassinated."
   ]
  },
  {
   "cell_type": "code",
   "execution_count": 96,
   "id": "3f82f114",
   "metadata": {},
   "outputs": [
    {
     "data": {
      "image/png": "[encoded data removed]",
      "text/plain": [
       "<Figure size 640x480 with 1 Axes>"
      ]
     },
     "metadata": {},
     "output_type": "display_data"
    }
   ],
   "source": [
    "import pandas as pd\n",
    "import matplotlib.pyplot as plt\n",
    "\n",
    "emperors = pd.read_csv('roman-emperor-reigns.csv')\n",
    "\n",
    "count_ass = (emperors['Cause_of_Death'] == 'Assassinated').sum()\n",
    "count_other = len(emperors) - assassinated_count\n",
    "assassinated_percent = assassinated_count / len(emperors) * 100\n",
    "other_percent = 100 - assassinated_percent\n",
    "\n",
    "labels = ['Assassinated', 'Others']\n",
    "sizes = [assassinated_percent, other_percent]\n",
    "colors = ['#ff9999','#66b3fb']\n",
    "plt.pie(sizes, labels=labels, colors=colors, autopct='%1.1f%%', startangle=90)\n",
    "plt.axis('equal')\n",
    "plt.title('Fraction of all Roman Emperors Assassinated')\n",
    "plt.show()\n"
   ]
  },
  {
   "cell_type": "markdown",
   "id": "cfa568f7",
   "metadata": {},
   "source": [
    "# Question 10\n"
   ]
  },
  {
   "cell_type": "markdown",
   "id": "efbc268b",
   "metadata": {},
   "source": [
    "### Create a scatter plot showing the relationship between the total revenue earned by arcades and the number of Computer Science PhDs awarded in the U.S. between 2000 and 2009.\n"
   ]
  },
  {
   "cell_type": "code",
   "execution_count": 97,
   "id": "3b0b9032",
   "metadata": {},
   "outputs": [
    {
     "data": {
      "image/png": "[encoded data removed]",
      "text/plain": [
       "<Figure size 640x480 with 1 Axes>"
      ]
     },
     "metadata": {},
     "output_type": "display_data"
    }
   ],
   "source": [
    "import pandas as pd\n",
    "import matplotlib.pyplot as plt\n",
    "\n",
    "data = pd.read_csv('arcade-revenue-vs-cs-doctorates.csv')\n",
    "\n",
    "x = data['Computer Science Doctorates Awarded (US)']\n",
    "y = data['Total Arcade Revenue (billions)']\n",
    "colors = data['Year']\n",
    "\n",
    "plt.scatter(x, y, c=colors, cmap='viridis')\n",
    "plt.xlabel('Computer Science Doctorates Awarded (US)')\n",
    "plt.ylabel('Total Arcade Revenue (billions)')\n",
    "plt.title('Relationship between Arcade total Revenue and CS PhDs awarded (2000-2009)')\n",
    "plt.show()\n"
   ]
  }
 ],
 "metadata": {
  "kernelspec": {
   "display_name": "Python 3 (ipykernel)",
   "language": "python",
   "name": "python3"
  },
  "language_info": {
   "codemirror_mode": {
    "name": "ipython",
    "version": 3
   },
   "file_extension": ".py",
   "mimetype": "text/x-python",
   "name": "python",
   "nbconvert_exporter": "python",
   "pygments_lexer": "ipython3",
   "version": "3.9.13"
  }
 },
 "nbformat": 4,
 "nbformat_minor": 5
}
